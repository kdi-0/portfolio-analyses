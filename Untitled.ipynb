{
 "cells": [
  {
   "cell_type": "code",
   "execution_count": 15,
   "id": "21380069-e030-4257-88d7-5e55dab1604e",
   "metadata": {},
   "outputs": [],
   "source": [
    "import pandas as pd\n",
    "import numpy as np"
   ]
  },
  {
   "cell_type": "code",
   "execution_count": 16,
   "id": "b0e9732d-1443-486c-9dd7-984ced9ed41c",
   "metadata": {},
   "outputs": [],
   "source": [
    "prices = pd.read_csv(\"./data/sample_prices.csv\")"
   ]
  },
  {
   "cell_type": "code",
   "execution_count": 17,
   "id": "fe55b358-cd06-479f-bd7b-4939264fac0d",
   "metadata": {},
   "outputs": [],
   "source": [
    "returns = prices.pct_change().dropna()"
   ]
  },
  {
   "cell_type": "code",
   "execution_count": 18,
   "id": "652f59ac-b734-4c2e-8ced-6b2af00a51c9",
   "metadata": {},
   "outputs": [],
   "source": [
    "deviations = returns - returns.mean()"
   ]
  },
  {
   "cell_type": "code",
   "execution_count": 20,
   "id": "a4d3e43b-584d-4998-8fc3-450e799e7c81",
   "metadata": {},
   "outputs": [],
   "source": [
    "sqr_deviations = pow(deviations, 2)\n",
    "variance =  sqr_deviations.mean()\n",
    "volatility = np.sqrt(variance)"
   ]
  },
  {
   "cell_type": "code",
   "execution_count": 21,
   "id": "3bb0581d-b0d6-4214-bd97-e8007436a77d",
   "metadata": {},
   "outputs": [
    {
     "data": {
      "text/plain": [
       "BLUE      0.022957\n",
       "ORANGE    0.076212\n",
       "dtype: float64"
      ]
     },
     "execution_count": 21,
     "metadata": {},
     "output_type": "execute_result"
    }
   ],
   "source": [
    "volatility"
   ]
  },
  {
   "cell_type": "code",
   "execution_count": 23,
   "id": "0e9727ec-cba1-4ee6-b0f3-6ce326c61e99",
   "metadata": {},
   "outputs": [],
   "source": [
    "n = returns.shape[0]\n",
    "variance = sqr_deviations.sum()/(n - 1)\n",
    "volatility = np.sqrt(variance)"
   ]
  },
  {
   "cell_type": "code",
   "execution_count": 24,
   "id": "7d34d456-741e-4cad-9fc3-77411326be9b",
   "metadata": {},
   "outputs": [
    {
     "data": {
      "text/plain": [
       "BLUE      0.023977\n",
       "ORANGE    0.079601\n",
       "dtype: float64"
      ]
     },
     "execution_count": 24,
     "metadata": {},
     "output_type": "execute_result"
    }
   ],
   "source": [
    "returns.std()"
   ]
  },
  {
   "cell_type": "code",
   "execution_count": 25,
   "id": "f3bf3dd1-deba-428a-bd85-31acc201f0d4",
   "metadata": {},
   "outputs": [],
   "source": [
    "annualized_vol = returns.std()*np.sqrt(12)"
   ]
  },
  {
   "cell_type": "code",
   "execution_count": 26,
   "id": "24c2d335-a10c-4f47-b263-3ede3a6fb5a6",
   "metadata": {},
   "outputs": [
    {
     "data": {
      "text/plain": [
       "BLUE      0.083060\n",
       "ORANGE    0.275747\n",
       "dtype: float64"
      ]
     },
     "execution_count": 26,
     "metadata": {},
     "output_type": "execute_result"
    }
   ],
   "source": [
    "annualized_vol"
   ]
  },
  {
   "cell_type": "code",
   "execution_count": null,
   "id": "0a26e921-a82c-4e61-bf8e-99d1d6a03786",
   "metadata": {},
   "outputs": [],
   "source": []
  }
 ],
 "metadata": {
  "kernelspec": {
   "display_name": "Python 3 (ipykernel)",
   "language": "python",
   "name": "python3"
  },
  "language_info": {
   "codemirror_mode": {
    "name": "ipython",
    "version": 3
   },
   "file_extension": ".py",
   "mimetype": "text/x-python",
   "name": "python",
   "nbconvert_exporter": "python",
   "pygments_lexer": "ipython3",
   "version": "3.9.12"
  }
 },
 "nbformat": 4,
 "nbformat_minor": 5
}
