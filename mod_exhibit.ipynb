{
 "cells": [
  {
   "cell_type": "code",
   "execution_count": 3,
   "id": "65e185eb-1604-4260-b3d2-3fafceb061a0",
   "metadata": {},
   "outputs": [],
   "source": [
    "import pandas as pd\n",
    "import hello as h"
   ]
  },
  {
   "cell_type": "code",
   "execution_count": 7,
   "id": "4872ba71-d047-4c53-9b65-37db9fedcd3e",
   "metadata": {},
   "outputs": [
    {
     "name": "stdout",
     "output_type": "stream",
     "text": [
      "The autoreload extension is already loaded. To reload it, use:\n",
      "  %reload_ext autoreload\n"
     ]
    }
   ],
   "source": [
    "%load_ext autoreload\n",
    "%autoreload 2"
   ]
  }
 ],
 "metadata": {
  "kernelspec": {
   "display_name": "Python 3 (ipykernel)",
   "language": "python",
   "name": "python3"
  },
  "language_info": {
   "codemirror_mode": {
    "name": "ipython",
    "version": 3
   },
   "file_extension": ".py",
   "mimetype": "text/x-python",
   "name": "python",
   "nbconvert_exporter": "python",
   "pygments_lexer": "ipython3",
   "version": "3.9.12"
  }
 },
 "nbformat": 4,
 "nbformat_minor": 5
}
